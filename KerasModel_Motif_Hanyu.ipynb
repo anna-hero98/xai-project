{
  "cells": [
    {
      "cell_type": "code",
      "execution_count": 2,
      "metadata": {},
      "outputs": [
        {
          "name": "stdout",
          "output_type": "stream",
          "text": [
            "Collecting pyts\n",
            "  Using cached pyts-0.13.0-py3-none-any.whl.metadata (10 kB)\n",
            "Requirement already satisfied: numpy>=1.22.4 in c:\\users\\hanyu\\anaconda3\\lib\\site-packages (from pyts) (1.26.4)\n",
            "Requirement already satisfied: scipy>=1.8.1 in c:\\users\\hanyu\\anaconda3\\lib\\site-packages (from pyts) (1.11.4)\n",
            "Requirement already satisfied: scikit-learn>=1.2.0 in c:\\users\\hanyu\\anaconda3\\lib\\site-packages (from pyts) (1.2.2)\n",
            "Requirement already satisfied: joblib>=1.1.1 in c:\\users\\hanyu\\anaconda3\\lib\\site-packages (from pyts) (1.2.0)\n",
            "Requirement already satisfied: numba>=0.55.2 in c:\\users\\hanyu\\anaconda3\\lib\\site-packages (from pyts) (0.59.0)\n",
            "Requirement already satisfied: llvmlite<0.43,>=0.42.0dev0 in c:\\users\\hanyu\\anaconda3\\lib\\site-packages (from numba>=0.55.2->pyts) (0.42.0)\n",
            "Requirement already satisfied: threadpoolctl>=2.0.0 in c:\\users\\hanyu\\anaconda3\\lib\\site-packages (from scikit-learn>=1.2.0->pyts) (2.2.0)\n",
            "Using cached pyts-0.13.0-py3-none-any.whl (2.5 MB)\n",
            "Installing collected packages: pyts\n",
            "Successfully installed pyts-0.13.0\n",
            "Note: you may need to restart the kernel to use updated packages.\n"
          ]
        }
      ],
      "source": [
        "%pip install pyts"
      ]
    },
    {
      "cell_type": "code",
      "execution_count": 2,
      "metadata": {
        "id": "JrasrrkzAFPb"
      },
      "outputs": [],
      "source": [
        "import numpy as np\n",
        "import pandas as pd\n",
        "import matplotlib.pyplot as plt\n",
        "\n",
        "from sklearn import preprocessing\n",
        "import pyts.datasets\n",
        "from pyts.transformation import ShapeletTransform\n"
      ]
    },
    {
      "cell_type": "code",
      "execution_count": 37,
      "metadata": {},
      "outputs": [
        {
          "name": "stdout",
          "output_type": "stream",
          "text": [
            "dict_keys(['data_train', 'target_train', 'data_test', 'target_test', 'DESCR', 'url'])\n"
          ]
        }
      ],
      "source": [
        "from pyts.datasets import fetch_ucr_dataset\n",
        "\n",
        "# Fetching a sample dataset to check\n",
        "dataset = fetch_ucr_dataset(\"GunPoint\")\n",
        "print(dataset.keys())  # Display keys of the dataset to confirm"
      ]
    },
    {
      "cell_type": "code",
      "execution_count": 38,
      "metadata": {
        "id": "LfApl9gdPWsY"
      },
      "outputs": [],
      "source": [
        "DS = 'GunPoint'\n",
        "X_train, X_test, y_train, y_test = pyts.datasets.fetch_ucr_dataset(dataset=DS, return_X_y=True)\n",
        "Ori_test = X_test"
      ]
    },
    {
      "cell_type": "code",
      "execution_count": 39,
      "metadata": {},
      "outputs": [
        {
          "data": {
            "text/plain": [
              "(50, 150)"
            ]
          },
          "execution_count": 39,
          "metadata": {},
          "output_type": "execute_result"
        }
      ],
      "source": [
        "X_train.shape"
      ]
    },
    {
      "cell_type": "code",
      "execution_count": 40,
      "metadata": {},
      "outputs": [
        {
          "data": {
            "text/plain": [
              "(150, 150)"
            ]
          },
          "execution_count": 40,
          "metadata": {},
          "output_type": "execute_result"
        }
      ],
      "source": [
        "X_test.shape"
      ]
    },
    {
      "cell_type": "code",
      "execution_count": 41,
      "metadata": {
        "colab": {
          "base_uri": "https://localhost:8080/"
        },
        "id": "6gStpyCV18P5",
        "outputId": "933b9d4c-fded-4c9d-d93f-110b13ba34f3"
      },
      "outputs": [
        {
          "data": {
            "text/plain": [
              "array([2, 2, 1, 1, 2, 2, 2, 2, 2, 1, 1, 1, 1, 1, 2, 1, 2, 2, 1, 2, 1, 1,\n",
              "       1, 2, 1, 2, 1, 1, 2, 1, 1, 2, 2, 1, 2, 1, 2, 2, 2, 2, 2, 1, 1, 1,\n",
              "       2, 2, 1, 2, 1, 2], dtype=int64)"
            ]
          },
          "execution_count": 41,
          "metadata": {},
          "output_type": "execute_result"
        }
      ],
      "source": [
        "y_train"
      ]
    },
    {
      "cell_type": "code",
      "execution_count": 42,
      "metadata": {
        "id": "xgluP5JCKq9E"
      },
      "outputs": [],
      "source": [
        "def label_encoder(training_labels, testing_labels):\n",
        "\n",
        "    le = preprocessing.LabelEncoder()\n",
        "    le.fit(np.concatenate((training_labels, testing_labels), axis=0))\n",
        "    y_train = le.transform(training_labels)\n",
        "    y_test = le.transform(testing_labels)\n",
        "\n",
        "    return y_train, y_test\n",
        "\n",
        "y_train, y_test = label_encoder(y_train, y_test)"
      ]
    },
    {
      "cell_type": "code",
      "execution_count": 43,
      "metadata": {
        "colab": {
          "base_uri": "https://localhost:8080/"
        },
        "id": "pQQpbrbtS92V",
        "outputId": "43307801-6621-4f7f-98c0-1101344123e2"
      },
      "outputs": [
        {
          "data": {
            "text/plain": [
              "array([1, 1, 0, 0, 1, 1, 1, 1, 1, 0, 0, 0, 0, 0, 1, 0, 1, 1, 0, 1, 0, 0,\n",
              "       0, 1, 0, 1, 0, 0, 1, 0, 0, 1, 1, 0, 1, 0, 1, 1, 1, 1, 1, 0, 0, 0,\n",
              "       1, 1, 0, 1, 0, 1], dtype=int64)"
            ]
          },
          "execution_count": 43,
          "metadata": {},
          "output_type": "execute_result"
        }
      ],
      "source": [
        "y_train"
      ]
    },
    {
      "cell_type": "code",
      "execution_count": 44,
      "metadata": {
        "id": "_rPdxAUbOE9O"
      },
      "outputs": [],
      "source": [
        "def get_shapelet(X_train, y_train, len_ts):\n",
        "    a = int(len_ts * 0.3)\n",
        "    b = int(len_ts * 0.5)\n",
        "    c = int(len_ts * 0.7)\n",
        "    st = ShapeletTransform(n_shapelets=100, window_sizes=[a, b, c],\n",
        "                           random_state=42, sort=True)\n",
        "    st.fit_transform(X_train, y_train)\n",
        "    indices = pd.DataFrame(st.indices_)\n",
        "    return indices\n",
        "\n",
        "# category the shapelets by their label, res include 4 columns, the index, start index, end index, and the label\n",
        "def shapelet_category(y_train, indices, label):\n",
        "    labels = y_train[indices.iloc[:, 0]]\n",
        "    labels = pd.DataFrame(labels)\n",
        "    frames = [indices, labels]\n",
        "    res = pd.concat(frames, axis=1)\n",
        "    res.columns=[\"idx\", \"start_point\", \"end_point\", \"label\"]\n",
        "    res = res.groupby('label')\n",
        "    res = res.get_group(label).head(1)\n",
        "    res = np.array(res)\n",
        "    return res"
      ]
    },
    {
      "cell_type": "code",
      "execution_count": 45,
      "metadata": {
        "colab": {
          "base_uri": "https://localhost:8080/"
        },
        "id": "QhEkYS4fOufB",
        "outputId": "5c90ecff-c1b0-41f1-9139-d2a8d2673d9e"
      },
      "outputs": [
        {
          "name": "stdout",
          "output_type": "stream",
          "text": [
            "(50, 150) 150 [0 1]\n",
            "[array([[48,  0, 75,  0]], dtype=int64), array([[34, 17, 62,  1]], dtype=int64)]\n"
          ]
        }
      ],
      "source": [
        "len_ts = X_train.shape[1]\n",
        "classes =np.unique(y_test)\n",
        "nb_classes = len(classes)\n",
        "print(X_train.shape, len_ts, classes)\n",
        "idx_shapelets = get_shapelet(X_train, y_train, len_ts)  # index, start_point, end_point\n",
        "shapelets = []\n",
        "for i in classes:\n",
        "    shapelets.append(shapelet_category(y_train, idx_shapelets, i))\n",
        "print(shapelets)"
      ]
    },
    {
      "cell_type": "code",
      "execution_count": 46,
      "metadata": {
        "id": "Hfkr4hyuQ5Jg"
      },
      "outputs": [],
      "source": [
        "shapelet_dic = {}\n",
        "for cls in range(nb_classes):\n",
        "    shapelet_dic[cls] = X_train[shapelets[cls][0][0]][shapelets[cls][0][1]:shapelets[cls][0][2]]"
      ]
    },
    {
      "cell_type": "code",
      "execution_count": 47,
      "metadata": {
        "colab": {
          "base_uri": "https://localhost:8080/",
          "height": 279
        },
        "id": "7r8TxWsW5qyd",
        "outputId": "0025f9e5-60cd-4011-f332-0e2651a2e1bd"
      },
      "outputs": [
        {
          "data": {
            "image/png": "[encoded data removed]",
            "text/plain": [
              "<Figure size 640x480 with 1 Axes>"
            ]
          },
          "metadata": {},
          "output_type": "display_data"
        }
      ],
      "source": [
        "plt.style.use('bmh')\n",
        "cls = 0\n",
        "plt.plot(X_train[shapelets[cls][0][0]], )\n",
        "plt.plot(np.arange(shapelets[cls][0][1], shapelets[cls][0][2]),\n",
        "         X_train[shapelets[cls][0][0], shapelets[cls][0][1]:shapelets[cls][0][2]], label = \"motif\")\n",
        "\n",
        "\n",
        "plt.xlabel('Time', fontsize=12)\n",
        "# plt.title('The shapelets', fontsize=14)\n",
        "plt.legend()\n",
        "plt.show()"
      ]
    },
    {
      "cell_type": "code",
      "execution_count": 48,
      "metadata": {
        "colab": {
          "base_uri": "https://localhost:8080/",
          "height": 279
        },
        "id": "_-CdBltsH7FR",
        "outputId": "94ae3d0c-9a9a-4749-f5a4-b3ae959b49b2"
      },
      "outputs": [
        {
          "data": {
            "image/png": "[encoded data removed]",
            "text/plain": [
              "<Figure size 640x480 with 1 Axes>"
            ]
          },
          "metadata": {},
          "output_type": "display_data"
        }
      ],
      "source": [
        "plt.style.use('bmh')\n",
        "cls = 1\n",
        "plt.plot(X_train[shapelets[cls][0][0]],)\n",
        "plt.plot(np.arange(shapelets[cls][0][1], shapelets[cls][0][2]),\n",
        "         X_train[shapelets[cls][0][0], shapelets[cls][0][1]:shapelets[cls][0][2]], label = \"motif\")\n",
        "\n",
        "plt.xlabel('Time', fontsize=12)\n",
        "plt.legend()\n",
        "plt.show()\n"
      ]
    },
    {
      "cell_type": "markdown",
      "metadata": {
        "id": "3tn2LoVc71Mv"
      },
      "source": [
        "# train & test data"
      ]
    },
    {
      "cell_type": "code",
      "execution_count": 135,
      "metadata": {
        "id": "wnfuMuKV73pz"
      },
      "outputs": [],
      "source": [
        "from sklearn.ensemble import RandomForestClassifier\n",
        "from sklearn.metrics import f1_score\n",
        "\n",
        "classifier = RandomForestClassifier()\n",
        "\n",
        "def train(classifier, X_train, y_train, X_test):\n",
        "  model = classifier\n",
        "  model.fit(X_train, y_train)\n",
        "  return model\n",
        "\n",
        "model = train(classifier, X_train, y_train, X_test)"
      ]
    },
    {
      "cell_type": "code",
      "execution_count": null,
      "metadata": {},
      "outputs": [],
      "source": [
        "%pip install tensorflow"
      ]
    },
    {
      "cell_type": "markdown",
      "metadata": {},
      "source": [
        "## Keras Model"
      ]
    },
    {
      "cell_type": "code",
      "execution_count": 49,
      "metadata": {},
      "outputs": [
        {
          "data": {
            "text/plain": [
              "(50, 150)"
            ]
          },
          "execution_count": 49,
          "metadata": {},
          "output_type": "execute_result"
        }
      ],
      "source": [
        "X_train.shape"
      ]
    },
    {
      "cell_type": "code",
      "execution_count": 50,
      "metadata": {},
      "outputs": [
        {
          "data": {
            "text/plain": [
              "(150, 150)"
            ]
          },
          "execution_count": 50,
          "metadata": {},
          "output_type": "execute_result"
        }
      ],
      "source": [
        "X_test.shape"
      ]
    },
    {
      "cell_type": "code",
      "execution_count": 51,
      "metadata": {},
      "outputs": [
        {
          "name": "stdout",
          "output_type": "stream",
          "text": [
            "(50, 1, 150)\n",
            "(150, 1, 150)\n"
          ]
        }
      ],
      "source": [
        "X_train_reshaped = np.expand_dims(X_train, axis=1)\n",
        "X_test_reshaped = np.expand_dims(X_test, axis=1)\n",
        "\n",
        "print(X_train_reshaped.shape)\n",
        "print(X_test_reshaped.shape)"
      ]
    },
    {
      "cell_type": "code",
      "execution_count": 52,
      "metadata": {},
      "outputs": [
        {
          "data": {
            "text/html": [
              "<pre style=\"white-space:pre;overflow-x:auto;line-height:normal;font-family:Menlo,'DejaVu Sans Mono',consolas,'Courier New',monospace\"><span style=\"font-weight: bold\">Model: \"functional_2\"</span>\n",
              "</pre>\n"
            ],
            "text/plain": [
              "\u001b[1mModel: \"functional_2\"\u001b[0m\n"
            ]
          },
          "metadata": {},
          "output_type": "display_data"
        },
        {
          "data": {
            "text/html": [
              "<pre style=\"white-space:pre;overflow-x:auto;line-height:normal;font-family:Menlo,'DejaVu Sans Mono',consolas,'Courier New',monospace\">┏━━━━━━━━━━━━━━━━━━━━━━━━━━━━━━━━━┳━━━━━━━━━━━━━━━━━━━━━━━━┳━━━━━━━━━━━━━━━┓\n",
              "┃<span style=\"font-weight: bold\"> Layer (type)                    </span>┃<span style=\"font-weight: bold\"> Output Shape           </span>┃<span style=\"font-weight: bold\">       Param # </span>┃\n",
              "┡━━━━━━━━━━━━━━━━━━━━━━━━━━━━━━━━━╇━━━━━━━━━━━━━━━━━━━━━━━━╇━━━━━━━━━━━━━━━┩\n",
              "│ input_layer_1 (<span style=\"color: #0087ff; text-decoration-color: #0087ff\">InputLayer</span>)      │ (<span style=\"color: #00d7ff; text-decoration-color: #00d7ff\">None</span>, <span style=\"color: #00af00; text-decoration-color: #00af00\">1</span>, <span style=\"color: #00af00; text-decoration-color: #00af00\">150</span>)         │             <span style=\"color: #00af00; text-decoration-color: #00af00\">0</span> │\n",
              "├─────────────────────────────────┼────────────────────────┼───────────────┤\n",
              "│ conv1d_2 (<span style=\"color: #0087ff; text-decoration-color: #0087ff\">Conv1D</span>)               │ (<span style=\"color: #00d7ff; text-decoration-color: #00d7ff\">None</span>, <span style=\"color: #00af00; text-decoration-color: #00af00\">1</span>, <span style=\"color: #00af00; text-decoration-color: #00af00\">16</span>)          │         <span style=\"color: #00af00; text-decoration-color: #00af00\">7,216</span> │\n",
              "├─────────────────────────────────┼────────────────────────┼───────────────┤\n",
              "│ dropout_2 (<span style=\"color: #0087ff; text-decoration-color: #0087ff\">Dropout</span>)             │ (<span style=\"color: #00d7ff; text-decoration-color: #00d7ff\">None</span>, <span style=\"color: #00af00; text-decoration-color: #00af00\">1</span>, <span style=\"color: #00af00; text-decoration-color: #00af00\">16</span>)          │             <span style=\"color: #00af00; text-decoration-color: #00af00\">0</span> │\n",
              "├─────────────────────────────────┼────────────────────────┼───────────────┤\n",
              "│ conv1d_3 (<span style=\"color: #0087ff; text-decoration-color: #0087ff\">Conv1D</span>)               │ (<span style=\"color: #00d7ff; text-decoration-color: #00d7ff\">None</span>, <span style=\"color: #00af00; text-decoration-color: #00af00\">1</span>, <span style=\"color: #00af00; text-decoration-color: #00af00\">8</span>)           │           <span style=\"color: #00af00; text-decoration-color: #00af00\">392</span> │\n",
              "├─────────────────────────────────┼────────────────────────┼───────────────┤\n",
              "│ flatten_1 (<span style=\"color: #0087ff; text-decoration-color: #0087ff\">Flatten</span>)             │ (<span style=\"color: #00d7ff; text-decoration-color: #00d7ff\">None</span>, <span style=\"color: #00af00; text-decoration-color: #00af00\">8</span>)              │             <span style=\"color: #00af00; text-decoration-color: #00af00\">0</span> │\n",
              "├─────────────────────────────────┼────────────────────────┼───────────────┤\n",
              "│ dense_4 (<span style=\"color: #0087ff; text-decoration-color: #0087ff\">Dense</span>)                 │ (<span style=\"color: #00d7ff; text-decoration-color: #00d7ff\">None</span>, <span style=\"color: #00af00; text-decoration-color: #00af00\">80</span>)             │           <span style=\"color: #00af00; text-decoration-color: #00af00\">720</span> │\n",
              "├─────────────────────────────────┼────────────────────────┼───────────────┤\n",
              "│ dense_5 (<span style=\"color: #0087ff; text-decoration-color: #0087ff\">Dense</span>)                 │ (<span style=\"color: #00d7ff; text-decoration-color: #00d7ff\">None</span>, <span style=\"color: #00af00; text-decoration-color: #00af00\">8</span>)              │           <span style=\"color: #00af00; text-decoration-color: #00af00\">648</span> │\n",
              "├─────────────────────────────────┼────────────────────────┼───────────────┤\n",
              "│ reshape_1 (<span style=\"color: #0087ff; text-decoration-color: #0087ff\">Reshape</span>)             │ (<span style=\"color: #00d7ff; text-decoration-color: #00d7ff\">None</span>, <span style=\"color: #00af00; text-decoration-color: #00af00\">1</span>, <span style=\"color: #00af00; text-decoration-color: #00af00\">8</span>)           │             <span style=\"color: #00af00; text-decoration-color: #00af00\">0</span> │\n",
              "├─────────────────────────────────┼────────────────────────┼───────────────┤\n",
              "│ conv1d_transpose_3              │ (<span style=\"color: #00d7ff; text-decoration-color: #00d7ff\">None</span>, <span style=\"color: #00af00; text-decoration-color: #00af00\">2</span>, <span style=\"color: #00af00; text-decoration-color: #00af00\">8</span>)           │           <span style=\"color: #00af00; text-decoration-color: #00af00\">200</span> │\n",
              "│ (<span style=\"color: #0087ff; text-decoration-color: #0087ff\">Conv1DTranspose</span>)               │                        │               │\n",
              "├─────────────────────────────────┼────────────────────────┼───────────────┤\n",
              "│ dropout_3 (<span style=\"color: #0087ff; text-decoration-color: #0087ff\">Dropout</span>)             │ (<span style=\"color: #00d7ff; text-decoration-color: #00d7ff\">None</span>, <span style=\"color: #00af00; text-decoration-color: #00af00\">2</span>, <span style=\"color: #00af00; text-decoration-color: #00af00\">8</span>)           │             <span style=\"color: #00af00; text-decoration-color: #00af00\">0</span> │\n",
              "├─────────────────────────────────┼────────────────────────┼───────────────┤\n",
              "│ conv1d_transpose_4              │ (<span style=\"color: #00d7ff; text-decoration-color: #00d7ff\">None</span>, <span style=\"color: #00af00; text-decoration-color: #00af00\">4</span>, <span style=\"color: #00af00; text-decoration-color: #00af00\">16</span>)          │           <span style=\"color: #00af00; text-decoration-color: #00af00\">400</span> │\n",
              "│ (<span style=\"color: #0087ff; text-decoration-color: #0087ff\">Conv1DTranspose</span>)               │                        │               │\n",
              "├─────────────────────────────────┼────────────────────────┼───────────────┤\n",
              "│ conv1d_transpose_5              │ (<span style=\"color: #00d7ff; text-decoration-color: #00d7ff\">None</span>, <span style=\"color: #00af00; text-decoration-color: #00af00\">4</span>, <span style=\"color: #00af00; text-decoration-color: #00af00\">1</span>)           │            <span style=\"color: #00af00; text-decoration-color: #00af00\">49</span> │\n",
              "│ (<span style=\"color: #0087ff; text-decoration-color: #0087ff\">Conv1DTranspose</span>)               │                        │               │\n",
              "├─────────────────────────────────┼────────────────────────┼───────────────┤\n",
              "│ cropping1d_1 (<span style=\"color: #0087ff; text-decoration-color: #0087ff\">Cropping1D</span>)       │ (<span style=\"color: #00d7ff; text-decoration-color: #00d7ff\">None</span>, <span style=\"color: #00af00; text-decoration-color: #00af00\">2</span>, <span style=\"color: #00af00; text-decoration-color: #00af00\">1</span>)           │             <span style=\"color: #00af00; text-decoration-color: #00af00\">0</span> │\n",
              "└─────────────────────────────────┴────────────────────────┴───────────────┘\n",
              "</pre>\n"
            ],
            "text/plain": [
              "┏━━━━━━━━━━━━━━━━━━━━━━━━━━━━━━━━━┳━━━━━━━━━━━━━━━━━━━━━━━━┳━━━━━━━━━━━━━━━┓\n",
              "┃\u001b[1m \u001b[0m\u001b[1mLayer (type)                   \u001b[0m\u001b[1m \u001b[0m┃\u001b[1m \u001b[0m\u001b[1mOutput Shape          \u001b[0m\u001b[1m \u001b[0m┃\u001b[1m \u001b[0m\u001b[1m      Param #\u001b[0m\u001b[1m \u001b[0m┃\n",
              "┡━━━━━━━━━━━━━━━━━━━━━━━━━━━━━━━━━╇━━━━━━━━━━━━━━━━━━━━━━━━╇━━━━━━━━━━━━━━━┩\n",
              "│ input_layer_1 (\u001b[38;5;33mInputLayer\u001b[0m)      │ (\u001b[38;5;45mNone\u001b[0m, \u001b[38;5;34m1\u001b[0m, \u001b[38;5;34m150\u001b[0m)         │             \u001b[38;5;34m0\u001b[0m │\n",
              "├─────────────────────────────────┼────────────────────────┼───────────────┤\n",
              "│ conv1d_2 (\u001b[38;5;33mConv1D\u001b[0m)               │ (\u001b[38;5;45mNone\u001b[0m, \u001b[38;5;34m1\u001b[0m, \u001b[38;5;34m16\u001b[0m)          │         \u001b[38;5;34m7,216\u001b[0m │\n",
              "├─────────────────────────────────┼────────────────────────┼───────────────┤\n",
              "│ dropout_2 (\u001b[38;5;33mDropout\u001b[0m)             │ (\u001b[38;5;45mNone\u001b[0m, \u001b[38;5;34m1\u001b[0m, \u001b[38;5;34m16\u001b[0m)          │             \u001b[38;5;34m0\u001b[0m │\n",
              "├─────────────────────────────────┼────────────────────────┼───────────────┤\n",
              "│ conv1d_3 (\u001b[38;5;33mConv1D\u001b[0m)               │ (\u001b[38;5;45mNone\u001b[0m, \u001b[38;5;34m1\u001b[0m, \u001b[38;5;34m8\u001b[0m)           │           \u001b[38;5;34m392\u001b[0m │\n",
              "├─────────────────────────────────┼────────────────────────┼───────────────┤\n",
              "│ flatten_1 (\u001b[38;5;33mFlatten\u001b[0m)             │ (\u001b[38;5;45mNone\u001b[0m, \u001b[38;5;34m8\u001b[0m)              │             \u001b[38;5;34m0\u001b[0m │\n",
              "├─────────────────────────────────┼────────────────────────┼───────────────┤\n",
              "│ dense_4 (\u001b[38;5;33mDense\u001b[0m)                 │ (\u001b[38;5;45mNone\u001b[0m, \u001b[38;5;34m80\u001b[0m)             │           \u001b[38;5;34m720\u001b[0m │\n",
              "├─────────────────────────────────┼────────────────────────┼───────────────┤\n",
              "│ dense_5 (\u001b[38;5;33mDense\u001b[0m)                 │ (\u001b[38;5;45mNone\u001b[0m, \u001b[38;5;34m8\u001b[0m)              │           \u001b[38;5;34m648\u001b[0m │\n",
              "├─────────────────────────────────┼────────────────────────┼───────────────┤\n",
              "│ reshape_1 (\u001b[38;5;33mReshape\u001b[0m)             │ (\u001b[38;5;45mNone\u001b[0m, \u001b[38;5;34m1\u001b[0m, \u001b[38;5;34m8\u001b[0m)           │             \u001b[38;5;34m0\u001b[0m │\n",
              "├─────────────────────────────────┼────────────────────────┼───────────────┤\n",
              "│ conv1d_transpose_3              │ (\u001b[38;5;45mNone\u001b[0m, \u001b[38;5;34m2\u001b[0m, \u001b[38;5;34m8\u001b[0m)           │           \u001b[38;5;34m200\u001b[0m │\n",
              "│ (\u001b[38;5;33mConv1DTranspose\u001b[0m)               │                        │               │\n",
              "├─────────────────────────────────┼────────────────────────┼───────────────┤\n",
              "│ dropout_3 (\u001b[38;5;33mDropout\u001b[0m)             │ (\u001b[38;5;45mNone\u001b[0m, \u001b[38;5;34m2\u001b[0m, \u001b[38;5;34m8\u001b[0m)           │             \u001b[38;5;34m0\u001b[0m │\n",
              "├─────────────────────────────────┼────────────────────────┼───────────────┤\n",
              "│ conv1d_transpose_4              │ (\u001b[38;5;45mNone\u001b[0m, \u001b[38;5;34m4\u001b[0m, \u001b[38;5;34m16\u001b[0m)          │           \u001b[38;5;34m400\u001b[0m │\n",
              "│ (\u001b[38;5;33mConv1DTranspose\u001b[0m)               │                        │               │\n",
              "├─────────────────────────────────┼────────────────────────┼───────────────┤\n",
              "│ conv1d_transpose_5              │ (\u001b[38;5;45mNone\u001b[0m, \u001b[38;5;34m4\u001b[0m, \u001b[38;5;34m1\u001b[0m)           │            \u001b[38;5;34m49\u001b[0m │\n",
              "│ (\u001b[38;5;33mConv1DTranspose\u001b[0m)               │                        │               │\n",
              "├─────────────────────────────────┼────────────────────────┼───────────────┤\n",
              "│ cropping1d_1 (\u001b[38;5;33mCropping1D\u001b[0m)       │ (\u001b[38;5;45mNone\u001b[0m, \u001b[38;5;34m2\u001b[0m, \u001b[38;5;34m1\u001b[0m)           │             \u001b[38;5;34m0\u001b[0m │\n",
              "└─────────────────────────────────┴────────────────────────┴───────────────┘\n"
            ]
          },
          "metadata": {},
          "output_type": "display_data"
        },
        {
          "data": {
            "text/html": [
              "<pre style=\"white-space:pre;overflow-x:auto;line-height:normal;font-family:Menlo,'DejaVu Sans Mono',consolas,'Courier New',monospace\"><span style=\"font-weight: bold\"> Total params: </span><span style=\"color: #00af00; text-decoration-color: #00af00\">9,625</span> (37.60 KB)\n",
              "</pre>\n"
            ],
            "text/plain": [
              "\u001b[1m Total params: \u001b[0m\u001b[38;5;34m9,625\u001b[0m (37.60 KB)\n"
            ]
          },
          "metadata": {},
          "output_type": "display_data"
        },
        {
          "data": {
            "text/html": [
              "<pre style=\"white-space:pre;overflow-x:auto;line-height:normal;font-family:Menlo,'DejaVu Sans Mono',consolas,'Courier New',monospace\"><span style=\"font-weight: bold\"> Trainable params: </span><span style=\"color: #00af00; text-decoration-color: #00af00\">9,625</span> (37.60 KB)\n",
              "</pre>\n"
            ],
            "text/plain": [
              "\u001b[1m Trainable params: \u001b[0m\u001b[38;5;34m9,625\u001b[0m (37.60 KB)\n"
            ]
          },
          "metadata": {},
          "output_type": "display_data"
        },
        {
          "data": {
            "text/html": [
              "<pre style=\"white-space:pre;overflow-x:auto;line-height:normal;font-family:Menlo,'DejaVu Sans Mono',consolas,'Courier New',monospace\"><span style=\"font-weight: bold\"> Non-trainable params: </span><span style=\"color: #00af00; text-decoration-color: #00af00\">0</span> (0.00 B)\n",
              "</pre>\n"
            ],
            "text/plain": [
              "\u001b[1m Non-trainable params: \u001b[0m\u001b[38;5;34m0\u001b[0m (0.00 B)\n"
            ]
          },
          "metadata": {},
          "output_type": "display_data"
        },
        {
          "name": "stdout",
          "output_type": "stream",
          "text": [
            "Epoch 1/20\n",
            "\u001b[1m45/45\u001b[0m \u001b[32m━━━━━━━━━━━━━━━━━━━━\u001b[0m\u001b[37m\u001b[0m \u001b[1m2s\u001b[0m 6ms/step - loss: 0.9936 - val_loss: 0.9933\n",
            "Epoch 2/20\n",
            "\u001b[1m45/45\u001b[0m \u001b[32m━━━━━━━━━━━━━━━━━━━━\u001b[0m\u001b[37m\u001b[0m \u001b[1m0s\u001b[0m 2ms/step - loss: 0.9933 - val_loss: 0.9933\n",
            "Epoch 3/20\n",
            "\u001b[1m45/45\u001b[0m \u001b[32m━━━━━━━━━━━━━━━━━━━━\u001b[0m\u001b[37m\u001b[0m \u001b[1m0s\u001b[0m 2ms/step - loss: 0.9933 - val_loss: 0.9933\n",
            "Epoch 4/20\n",
            "\u001b[1m45/45\u001b[0m \u001b[32m━━━━━━━━━━━━━━━━━━━━\u001b[0m\u001b[37m\u001b[0m \u001b[1m0s\u001b[0m 2ms/step - loss: 0.9933 - val_loss: 0.9933\n",
            "Epoch 5/20\n",
            "\u001b[1m45/45\u001b[0m \u001b[32m━━━━━━━━━━━━━━━━━━━━\u001b[0m\u001b[37m\u001b[0m \u001b[1m0s\u001b[0m 2ms/step - loss: 0.9933 - val_loss: 0.9933\n",
            "Epoch 6/20\n",
            "\u001b[1m45/45\u001b[0m \u001b[32m━━━━━━━━━━━━━━━━━━━━\u001b[0m\u001b[37m\u001b[0m \u001b[1m0s\u001b[0m 2ms/step - loss: 0.9933 - val_loss: 0.9933\n",
            "Epoch 7/20\n",
            "\u001b[1m45/45\u001b[0m \u001b[32m━━━━━━━━━━━━━━━━━━━━\u001b[0m\u001b[37m\u001b[0m \u001b[1m0s\u001b[0m 2ms/step - loss: 0.9933 - val_loss: 0.9933\n",
            "Epoch 8/20\n",
            "\u001b[1m45/45\u001b[0m \u001b[32m━━━━━━━━━━━━━━━━━━━━\u001b[0m\u001b[37m\u001b[0m \u001b[1m0s\u001b[0m 3ms/step - loss: 0.9933 - val_loss: 0.9933\n",
            "Epoch 9/20\n",
            "\u001b[1m45/45\u001b[0m \u001b[32m━━━━━━━━━━━━━━━━━━━━\u001b[0m\u001b[37m\u001b[0m \u001b[1m0s\u001b[0m 2ms/step - loss: 0.9933 - val_loss: 0.9933\n",
            "Epoch 10/20\n",
            "\u001b[1m45/45\u001b[0m \u001b[32m━━━━━━━━━━━━━━━━━━━━\u001b[0m\u001b[37m\u001b[0m \u001b[1m0s\u001b[0m 2ms/step - loss: 0.9933 - val_loss: 0.9933\n",
            "Epoch 11/20\n",
            "\u001b[1m45/45\u001b[0m \u001b[32m━━━━━━━━━━━━━━━━━━━━\u001b[0m\u001b[37m\u001b[0m \u001b[1m0s\u001b[0m 2ms/step - loss: 0.9933 - val_loss: 0.9933\n"
          ]
        },
        {
          "name": "stderr",
          "output_type": "stream",
          "text": [
            "WARNING:absl:You are saving your model as an HDF5 file via `model.save()` or `keras.saving.save_model(model)`. This file format is considered legacy. We recommend using instead the native Keras format, e.g. `model.save('my_model.keras')` or `keras.saving.save_model(model, 'my_model.keras')`. \n"
          ]
        }
      ],
      "source": [
        "import pickle\n",
        "import os\n",
        "import sys\n",
        "import numpy as np\n",
        "import pandas as pd\n",
        "from tensorflow import keras\n",
        "from tensorflow.keras import layers, models\n",
        "from matplotlib import pyplot as plt\n",
        "\n",
        "# Assuming X_train, y_train, X_test, y_test are already loaded from somewhere\n",
        "# Replace this part with actual data loading code\n",
        "# For example:\n",
        "# X_train, X_test, y_train, y_test = load_your_data()\n",
        "\n",
        "def load_data(filepath):\n",
        "    with open(filepath, 'rb') as file:\n",
        "        data = pickle.load(file)\n",
        "    return data\n",
        "\n",
        "def save_model(model, filepath):\n",
        "    model.save(filepath)\n",
        "\n",
        "def load_model(filepath):\n",
        "    return keras.models.load_model(filepath)\n",
        "\n",
        "def create_autoencoder(input_shape):\n",
        "    # Encoder using Functional API\n",
        "    input_layer = layers.Input(shape=input_shape)\n",
        "    x = layers.Conv1D(filters=16, kernel_size=3, strides=2, padding=\"same\", activation=\"relu\")(input_layer)\n",
        "    x = layers.Dropout(rate=0.2)(x)\n",
        "    x = layers.Conv1D(filters=8, kernel_size=3, strides=2, padding=\"same\", activation=\"relu\")(x)\n",
        "    conv_output = x  # Save this for decoder\n",
        "    x = layers.Flatten()(x)\n",
        "    encoded = layers.Dense(80)(x)\n",
        "\n",
        "    # Decoder\n",
        "    x = layers.Dense(np.prod(conv_output.shape[1:]))(encoded)\n",
        "    x = layers.Reshape((conv_output.shape[1], conv_output.shape[2]))(x)\n",
        "    x = layers.Conv1DTranspose(filters=8, kernel_size=3, strides=2, padding=\"same\", activation=\"relu\")(x)\n",
        "    x = layers.Dropout(rate=0.2)(x)\n",
        "    x = layers.Conv1DTranspose(filters=16, kernel_size=3, strides=2, padding=\"same\", activation=\"relu\")(x)\n",
        "    decoded = layers.Conv1DTranspose(filters=1, kernel_size=3, padding=\"same\")(x)\n",
        "    decoded = layers.Cropping1D(cropping=(1, 1))(decoded)\n",
        "\n",
        "    # Autoencoder model\n",
        "    autoencoder = models.Model(inputs=input_layer, outputs=decoded)\n",
        "    autoencoder.compile(optimizer='adam', loss='mse')\n",
        "    return autoencoder\n",
        "\n",
        "if __name__ == \"__main__\":\n",
        "    # Define dataset name\n",
        "    dataset = 'gunpoint'\n",
        "\n",
        "    # Define the input shape based on X_train\n",
        "    input_shape = (X_train_reshaped.shape[1], X_train_reshaped.shape[2])\n",
        "\n",
        "    # Create and compile the Autoencoder model\n",
        "    autoencoder = create_autoencoder(input_shape)\n",
        "    autoencoder.summary()\n",
        "\n",
        "    # Train AE model\n",
        "    history = autoencoder.fit(\n",
        "        X_train_reshaped,\n",
        "        X_train_reshaped,\n",
        "        epochs=20,\n",
        "        batch_size=1,\n",
        "        validation_split=0.1,\n",
        "        callbacks=[\n",
        "            keras.callbacks.EarlyStopping(monitor=\"val_loss\", patience=5, mode=\"min\")\n",
        "        ],\n",
        "    )\n",
        "\n",
        "    # Save the trained model\n",
        "    model_filepath = 'autoencoder_model.h5'\n",
        "    save_model(autoencoder, model_filepath)\n",
        "\n"
      ]
    },
    {
      "cell_type": "code",
      "execution_count": null,
      "metadata": {},
      "outputs": [],
      "source": [
        "\"\"\"from tensorflow.keras.losses import MeanSquaredError\n",
        "from tensorflow.keras.optimizers import Adam\n",
        "from tensorflow import keras\n",
        "import numpy as np\n",
        "\n",
        "# Define the file path for loading the model\n",
        "model_filepath = 'autoencoder_model.h5'\n",
        "\n",
        "# Load the model with custom 'mse' loss function\n",
        "keras_model = keras.models.load_model(model_filepath, custom_objects={'mse': MeanSquaredError()})\n",
        "\n",
        "# Recompile the model after loading\n",
        "keras_model.compile(optimizer=Adam(learning_rate=0.001), loss='mse', metrics=['accuracy'])\n",
        "\n",
        "# Train the model on X_train and y_train\n",
        "history = keras_model.fit(\n",
        "    X_train, \n",
        "    y_train,  # Assuming this is labeled data\n",
        "    epochs=20, \n",
        "    batch_size=32, \n",
        "    validation_split=0.1,\n",
        "    callbacks=[\n",
        "        keras.callbacks.EarlyStopping(monitor=\"val_loss\", patience=5, mode=\"min\")\n",
        "    ]\n",
        ")\n",
        "\n",
        "# After training, predict on X_test\n",
        "y_pred = keras_model.predict(X_test)\n",
        "\n",
        "# Optionally, round predictions if they are continuous values and you need classes (e.g., for classification)\n",
        "y_pred_classes = np.argmax(y_pred, axis=1)  # For classification with softmax output\n",
        "# Alternatively, for binary classification, you could threshold the outputs\n",
        "y_pred_classes = (y_pred > 0.5).astype(\"int32\")  # Assuming sigmoid activation for binary\n",
        "print(y_pred_classes)\n",
        "\n",
        "# Print predictions\n",
        "print(\"Predictions on X_test:\")\n",
        "print(y_pred)\n",
        "\n",
        "# Optionally, evaluate the model on the test set\n",
        "test_loss, test_accuracy = keras_model.evaluate(X_test, y_test)\n",
        "print(f\"Test Loss: {test_loss}, Test Accuracy: {test_accuracy}\")\"\"\"\n"
      ]
    },
    {
      "cell_type": "code",
      "execution_count": 53,
      "metadata": {},
      "outputs": [
        {
          "name": "stdout",
          "output_type": "stream",
          "text": [
            "Epoch 1/20\n",
            "\u001b[1m2/2\u001b[0m \u001b[32m━━━━━━━━━━━━━━━━━━━━\u001b[0m\u001b[37m\u001b[0m \u001b[1m2s\u001b[0m 268ms/step - accuracy: 0.4273 - loss: 0.6932 - val_accuracy: 0.4000 - val_loss: 0.6932\n",
            "Epoch 2/20\n",
            "\u001b[1m2/2\u001b[0m \u001b[32m━━━━━━━━━━━━━━━━━━━━\u001b[0m\u001b[37m\u001b[0m \u001b[1m0s\u001b[0m 23ms/step - accuracy: 0.4926 - loss: 0.6932 - val_accuracy: 0.4000 - val_loss: 0.6936\n",
            "Epoch 3/20\n",
            "\u001b[1m2/2\u001b[0m \u001b[32m━━━━━━━━━━━━━━━━━━━━\u001b[0m\u001b[37m\u001b[0m \u001b[1m0s\u001b[0m 24ms/step - accuracy: 0.4822 - loss: 0.6933 - val_accuracy: 0.4000 - val_loss: 0.6936\n",
            "Epoch 4/20\n",
            "\u001b[1m2/2\u001b[0m \u001b[32m━━━━━━━━━━━━━━━━━━━━\u001b[0m\u001b[37m\u001b[0m \u001b[1m0s\u001b[0m 25ms/step - accuracy: 0.4613 - loss: 0.6934 - val_accuracy: 0.4000 - val_loss: 0.6937\n",
            "Epoch 5/20\n",
            "\u001b[1m2/2\u001b[0m \u001b[32m━━━━━━━━━━━━━━━━━━━━\u001b[0m\u001b[37m\u001b[0m \u001b[1m0s\u001b[0m 22ms/step - accuracy: 0.5134 - loss: 0.6932 - val_accuracy: 0.4000 - val_loss: 0.6939\n",
            "Epoch 6/20\n",
            "\u001b[1m2/2\u001b[0m \u001b[32m━━━━━━━━━━━━━━━━━━━━\u001b[0m\u001b[37m\u001b[0m \u001b[1m0s\u001b[0m 24ms/step - accuracy: 0.4822 - loss: 0.6933 - val_accuracy: 0.4000 - val_loss: 0.6938\n"
          ]
        }
      ],
      "source": [
        "from tensorflow.keras.optimizers import Adam\n",
        "\n",
        "def create_classifier(base_model, num_classes):\n",
        "    # Freeze the base model (encoder) weights\n",
        "    base_model.trainable = False\n",
        "    \n",
        "    # Extract the encoder output\n",
        "    x = base_model.layers[-2].output  # Modify this if your encoder output is from a different layer\n",
        "    \n",
        "    # Reduce dimensionality using Global Average Pooling (or Flatten)\n",
        "    x = layers.GlobalAveragePooling1D()(x)  # Reduces (batch_size, timesteps, features) -> (batch_size, features)\n",
        "    \n",
        "    # Add new layers for classification\n",
        "    x = layers.Dense(64, activation='relu')(x)\n",
        "    x = layers.Dense(num_classes, activation='softmax')(x)  # Output layer for classification\n",
        "\n",
        "    # Create and compile the classifier model\n",
        "    classifier_model = models.Model(inputs=base_model.input, outputs=x)\n",
        "    classifier_model.compile(optimizer='adam', \n",
        "                             loss='sparse_categorical_crossentropy',  # Use this if labels are integers\n",
        "                             metrics=['accuracy'])\n",
        "    return classifier_model\n",
        "\n",
        "# Number of classes (ensure y_train contains the correct label format)\n",
        "num_classes = len(np.unique(y_train))\n",
        "\n",
        "# Create the classifier model\n",
        "classifier_model = create_classifier(autoencoder, num_classes)  # Use your trained autoencoder here\n",
        "\n",
        "# Train the classifier\n",
        "history_classifier = classifier_model.fit(\n",
        "    X_train_reshaped, \n",
        "    y_train,\n",
        "    epochs=20,\n",
        "    batch_size=32,\n",
        "    validation_split=0.1,\n",
        "    callbacks=[\n",
        "        keras.callbacks.EarlyStopping(monitor=\"val_loss\", patience=5, mode=\"min\")\n",
        "    ]\n",
        ")\n"
      ]
    },
    {
      "cell_type": "code",
      "execution_count": 54,
      "metadata": {},
      "outputs": [
        {
          "name": "stdout",
          "output_type": "stream",
          "text": [
            "\u001b[1m5/5\u001b[0m \u001b[32m━━━━━━━━━━━━━━━━━━━━\u001b[0m\u001b[37m\u001b[0m \u001b[1m0s\u001b[0m 37ms/step\n",
            "[0 0 0 0 0 0 0 0 0 0 0 0 0 0 0 0 0 0 0 0 0 0 0 0 0 0 0 0 0 0 0 0 0 0 0 0 0\n",
            " 0 0 0 0 0 0 0 0 0 0 0 0 0 0 0 0 0 0 0 0 0 0 0 0 0 0 0 0 0 0 0 0 0 0 0 0 0\n",
            " 0 0 0 0 0 0 0 0 0 0 0 0 0 0 0 0 0 0 0 0 0 0 0 0 0 0 0 0 0 0 0 0 0 0 0 0 0\n",
            " 0 0 0 0 0 0 0 0 0 0 0 0 0 0 0 0 0 0 0 0 0 0 0 0 0 0 0 0 0 0 0 0 0 0 0 0 0\n",
            " 0 0]\n"
          ]
        }
      ],
      "source": [
        "y_pred = classifier_model.predict(X_test_reshaped)\n",
        "\n",
        "# Convert predicted probabilities to class labels\n",
        "y_pred_labels = np.argmax(y_pred, axis=1)\n",
        "\n",
        "print(y_pred_labels)"
      ]
    },
    {
      "cell_type": "code",
      "execution_count": 55,
      "metadata": {},
      "outputs": [
        {
          "name": "stdout",
          "output_type": "stream",
          "text": [
            "Generated targets: [1, 1, 1, 1, 1, 1, 1, 1, 1, 1]\n"
          ]
        }
      ],
      "source": [
        "# Define the functions\n",
        "def target(prediction_probs):\n",
        "    top_two_indices = np.argsort(prediction_probs)[-2:]\n",
        "    return top_two_indices[-2]\n",
        "\n",
        "def targets_generation(predictions):\n",
        "    targets = []\n",
        "    for instance_probs in predictions:\n",
        "        res = target(instance_probs)\n",
        "        targets.append(res)\n",
        "    return targets\n",
        "\n",
        "# Generate targets\n",
        "targets = targets_generation(y_pred)\n",
        "\n",
        "# Print the first few targets\n",
        "print(\"Generated targets:\", targets[:10])"
      ]
    },
    {
      "cell_type": "code",
      "execution_count": 56,
      "metadata": {
        "colab": {
          "base_uri": "https://localhost:8080/"
        },
        "id": "wxC-39ZUGcuU",
        "outputId": "ac342e14-d970-41ea-f8e9-7dca20a90ee7"
      },
      "outputs": [
        {
          "data": {
            "text/plain": [
              "array([0, 1, 1, 0, 0, 1, 0, 1, 1, 0, 0, 0, 1, 0, 0, 0, 0, 1, 1, 1, 0, 1,\n",
              "       0, 0, 0, 1, 0, 0, 1, 0, 0, 1, 1, 0, 0, 0, 0, 0, 0, 1, 0, 1, 0, 0,\n",
              "       1, 0, 1, 1, 0, 1, 1, 1, 0, 1, 0, 0, 1, 1, 0, 1, 0, 1, 0, 0, 1, 0,\n",
              "       0, 1, 1, 1, 1, 1, 1, 1, 1, 1, 1, 1, 1, 0, 0, 0, 1, 1, 1, 1, 0, 1,\n",
              "       0, 0, 0, 1, 0, 1, 0, 0, 1, 1, 0, 0, 1, 0, 0, 1, 1, 0, 0, 1, 0, 1,\n",
              "       1, 1, 0, 1, 0, 0, 1, 0, 0, 1, 0, 1, 1, 1, 0, 1, 0, 0, 1, 1, 1, 1,\n",
              "       0, 0, 0, 1, 0, 1, 0, 0, 1, 0, 0, 1, 0, 1, 0, 1, 1, 0], dtype=int64)"
            ]
          },
          "execution_count": 56,
          "metadata": {},
          "output_type": "execute_result"
        }
      ],
      "source": [
        "y_test"
      ]
    },
    {
      "cell_type": "code",
      "execution_count": 57,
      "metadata": {},
      "outputs": [],
      "source": [
        "counterfactual_examples = []\n",
        "def counterfacutal_generation(test_samples):\n",
        "  for i in range(len(test_samples)):\n",
        "    index, start, end = shapelets[targets[i]][0][0], shapelets[targets[i]][0][1], shapelets[targets[i]][0][2]\n",
        "    test_samples[i][start:end] = X_train[index][start:end]\n",
        "    counterfactual_examples.append(test_samples[i])\n",
        "  return counterfactual_examples\n"
      ]
    },
    {
      "cell_type": "code",
      "execution_count": 58,
      "metadata": {},
      "outputs": [],
      "source": [
        "counterfactual_examples = counterfacutal_generation(X_test)"
      ]
    },
    {
      "cell_type": "code",
      "execution_count": 59,
      "metadata": {
        "id": "FiXOOeH4aFDn"
      },
      "outputs": [],
      "source": [
        "_, X_test, _, _ = pyts.datasets.fetch_ucr_dataset(dataset=DS, return_X_y=True)"
      ]
    },
    {
      "cell_type": "code",
      "execution_count": 60,
      "metadata": {
        "colab": {
          "base_uri": "https://localhost:8080/"
        },
        "id": "L924mNiXfTRC",
        "outputId": "9e4433f8-8bbd-4e88-fb8a-7099db1cbe72"
      },
      "outputs": [
        {
          "data": {
            "text/plain": [
              "array([0, 1, 1, 0, 0, 1, 0, 1, 1, 0, 0, 0, 1, 0, 0, 0, 0, 1, 1, 1, 0, 1,\n",
              "       0, 0, 0, 1, 0, 0, 1, 0, 0, 1, 1, 0, 0, 0, 0, 0, 0, 1, 0, 1, 0, 0,\n",
              "       1, 0, 1, 1, 0, 1, 1, 1, 0, 1, 0, 0, 1, 1, 0, 1, 0, 1, 0, 0, 1, 0,\n",
              "       0, 1, 1, 1, 1, 1, 1, 1, 1, 1, 1, 1, 1, 0, 0, 0, 1, 1, 1, 1, 0, 1,\n",
              "       0, 0, 0, 1, 0, 1, 0, 0, 1, 1, 0, 0, 1, 0, 0, 1, 1, 0, 0, 1, 0, 1,\n",
              "       1, 1, 0, 1, 0, 0, 1, 0, 0, 1, 0, 1, 1, 1, 0, 1, 0, 0, 1, 1, 1, 1,\n",
              "       0, 0, 0, 1, 0, 1, 0, 0, 1, 0, 0, 1, 0, 1, 0, 1, 1, 0], dtype=int64)"
            ]
          },
          "execution_count": 60,
          "metadata": {},
          "output_type": "execute_result"
        }
      ],
      "source": [
        "y_test"
      ]
    },
    {
      "cell_type": "code",
      "execution_count": 61,
      "metadata": {
        "colab": {
          "base_uri": "https://localhost:8080/",
          "height": 279
        },
        "id": "89k2pjZ-LXza",
        "outputId": "23cefa4d-4667-4826-caa6-b1eaca7b81d4"
      },
      "outputs": [
        {
          "data": {
            "image/png": "[encoded data removed]",
            "text/plain": [
              "<Figure size 640x480 with 1 Axes>"
            ]
          },
          "metadata": {},
          "output_type": "display_data"
        }
      ],
      "source": [
        "plt.style.use('bmh')\n",
        "\n",
        "plt.plot(X_test[0], label = 'Original', color='magenta')\n",
        "plt.plot(counterfactual_examples[0], label = 'CF', ls='--', color='green')\n",
        "\n",
        "plt.xlabel('Time', fontsize=12)\n",
        "# plt.title('The shapelets', fontsize=14)\n",
        "plt.legend()\n",
        "plt.show()"
      ]
    },
    {
      "cell_type": "code",
      "execution_count": 62,
      "metadata": {
        "colab": {
          "base_uri": "https://localhost:8080/",
          "height": 279
        },
        "id": "vHyzQO-diSyP",
        "outputId": "b9d1977e-ac8b-45ac-9c28-7634cf5d3e6d"
      },
      "outputs": [
        {
          "data": {
            "image/png": "[encoded data removed]",
            "text/plain": [
              "<Figure size 640x480 with 1 Axes>"
            ]
          },
          "metadata": {},
          "output_type": "display_data"
        }
      ],
      "source": [
        "plt.style.use('bmh')\n",
        "\n",
        "plt.plot(X_test[4], label = 'Original', color='magenta')\n",
        "plt.plot(counterfactual_examples[4], label = 'CF', ls='--', color='green')\n",
        "\n",
        "plt.xlabel('Time', fontsize=12)\n",
        "# plt.title('The shapelets', fontsize=14)\n",
        "plt.legend()\n",
        "plt.show()"
      ]
    },
    {
      "cell_type": "code",
      "execution_count": 63,
      "metadata": {
        "id": "7IUQnmTWIZQi"
      },
      "outputs": [],
      "source": [
        "from scipy.spatial import distance\n",
        "import numpy as np\n",
        "\n",
        "def getmetrics(x1, x2):\n",
        "    # Convert lists to NumPy arrays\n",
        "    x1 = np.array(x1)\n",
        "    x2 = np.array(x2)\n",
        "\n",
        "    # Compute the difference and metrics\n",
        "    diff = np.round(x1 - x2, 3)\n",
        "    l1 = distance.cityblock(x1, x2)\n",
        "    l2 = np.linalg.norm(x1 - x2)  # Euclidean distance (L2 norm)\n",
        "    l_inf = distance.chebyshev(x1, x2)  # Chebyshev distance (L∞ norm)\n",
        "    dist = distance.cityblock(x1, x2)\n",
        "    sparsity = (len(diff) - np.count_nonzero(diff)) / len(diff)\n",
        "\n",
        "    # Compute the number of segments with non-zero values\n",
        "    segnums = get_segmentsNumber(diff)\n",
        "\n",
        "    return l1, l2, l_inf, dist, sparsity, segnums\n",
        "\n",
        "def get_segmentsNumber(l4):\n",
        "    flag, count = 0, 0\n",
        "    for i in range(len(l4)):\n",
        "        if l4[i] != 0:\n",
        "            flag = 1\n",
        "        if flag == 1 and l4[i] == 0:\n",
        "            count += 1\n",
        "            flag = 0\n",
        "    return count"
      ]
    },
    {
      "cell_type": "code",
      "execution_count": 64,
      "metadata": {},
      "outputs": [
        {
          "name": "stdout",
          "output_type": "stream",
          "text": [
            "(150, 150)\n",
            "\u001b[1m5/5\u001b[0m \u001b[32m━━━━━━━━━━━━━━━━━━━━\u001b[0m\u001b[37m\u001b[0m \u001b[1m0s\u001b[0m 1ms/step \n"
          ]
        }
      ],
      "source": [
        "print(np.array(counterfactual_examples).shape)\n",
        "\n",
        "counterfactual_examples = np.array(counterfactual_examples)\n",
        "counterfactual_examples = counterfactual_examples.reshape((-1, X_train_reshaped.shape[1], X_train_reshaped.shape[2]))\n",
        "\n",
        "counter_res = classifier_model.predict(counterfactual_examples)"
      ]
    },
    {
      "cell_type": "code",
      "execution_count": 65,
      "metadata": {
        "id": "8o7m11RvTJXq"
      },
      "outputs": [],
      "source": [
        "target_probs = []\n",
        "for i in range(len(counter_res)):\n",
        "  target_prob = counter_res[i][targets[i]]\n",
        "  target_probs.append(target_prob)"
      ]
    },
    {
      "cell_type": "code",
      "execution_count": 67,
      "metadata": {},
      "outputs": [
        {
          "name": "stdout",
          "output_type": "stream",
          "text": [
            "          l1        l2     l_inf       dist  sparsity  segnums  target_probs\n",
            "0  25.756286  5.187624  1.537324  25.756286       0.7        1      0.498340\n",
            "1   1.553516  0.331605  0.211467   1.553516       0.7        1      0.498356\n",
            "2  40.848429  6.724388  1.399894  40.848429       0.7        1      0.498328\n",
            "3  16.118093  3.260137  1.029009  16.118093       0.7        1      0.498349\n",
            "4   9.624011  1.913739  0.687176   9.624011       0.7        1      0.498356\n"
          ]
        }
      ],
      "source": [
        "import numpy as np\n",
        "import pandas as pd\n",
        "from scipy.spatial import distance\n",
        "\n",
        "# Ensure that X_test and counterfactual_examples are NumPy arrays and have the correct shape\n",
        "X_test = np.array(X_test)\n",
        "counterfactual_examples = np.array(counterfactual_examples)\n",
        "\n",
        "# Flatten arrays if they are multidimensional\n",
        "X_test_flattened = X_test.reshape(X_test.shape[0], -1)\n",
        "counterfactual_examples_flattened = counterfactual_examples.reshape(counterfactual_examples.shape[0], -1)\n",
        "\n",
        "# Compute target probabilities (ensure this is correctly assigned before this point)\n",
        "# target_probs should have the same length as X_test\n",
        "assert len(target_probs) == len(X_test), \"target_probs length must match X_test length\"\n",
        "\n",
        "res = []\n",
        "\n",
        "# Loop through test samples\n",
        "for i in range(len(X_test)):\n",
        "    # Compute metrics for each pair\n",
        "    l1, l2, l_inf, dist, sparsity, segnums = getmetrics(\n",
        "        X_test_flattened[i], \n",
        "        counterfactual_examples_flattened[i]\n",
        "    )\n",
        "    \n",
        "    # Append metrics and target probabilities to the results list\n",
        "    res.append([l1, l2, l_inf, dist, sparsity, segnums, target_probs[i]])\n",
        "\n",
        "# Convert the results list to a DataFrame\n",
        "res_df = pd.DataFrame(res, columns=['l1', 'l2', 'l_inf', 'dist', 'sparsity', 'segnums', 'target_probs'])\n",
        "\n",
        "# Print the DataFrame to check\n",
        "print(res_df.head())\n"
      ]
    },
    {
      "cell_type": "code",
      "execution_count": 533,
      "metadata": {},
      "outputs": [],
      "source": [
        "\"\"\"import numpy as np\n",
        "import pandas as pd\n",
        "from scipy.spatial import distance\n",
        "\n",
        "# Ensure counterfactual_examples and X_test are NumPy arrays\n",
        "X_test = np.array(X_test)\n",
        "counterfactual_examples = np.array(counterfactual_examples)\n",
        "\n",
        "res = []\n",
        "\n",
        "def getmetrics(x1, x2):\n",
        "    # Ensure inputs are flattened\n",
        "    x1 = np.ravel(x1)\n",
        "    x2 = np.ravel(x2)\n",
        "    \n",
        "    diff = np.round(x1 - x2, 3)\n",
        "    l1 = distance.cityblock(x1, x2)\n",
        "    l2 = np.linalg.norm(x1 - x2)  # Euclidean distance (L2 norm)\n",
        "    l_inf = distance.chebyshev(x1, x2)  # Chebyshev distance (L∞ norm)\n",
        "    dist = np.linalg.norm(x1 - x2)  # Example distance calculation\n",
        "    sparsity = np.sum(x1 == 0) / len(x1)  # Example sparsity calculation\n",
        "    segnums = None  # Replace with actual segmentation logic if applicable\n",
        "    \n",
        "    return l1, l2, l_inf, dist, sparsity, segnums\n",
        "\n",
        "# Loop through test samples\n",
        "for i in range(len(X_test)):\n",
        "    # Compute metrics for each pair\n",
        "    l1, l2, l_inf, dist, sparsity, segnums = getmetrics(X_test[i], counterfactual_examples[i])\n",
        "    \n",
        "    # Append metrics and target probabilities to the results list\n",
        "    res.append([l1, l2, l_inf, dist, sparsity, segnums, target_probs[i]])\n",
        "\n",
        "# Convert the results list to a DataFrame\n",
        "res_df = pd.DataFrame(res, columns=['l1', 'l2', 'l_inf', 'dist', 'sparsity', 'segnums', 'target_probs'])\"\"\""
      ]
    },
    {
      "cell_type": "code",
      "execution_count": 69,
      "metadata": {
        "colab": {
          "base_uri": "https://localhost:8080/",
          "height": 424
        },
        "id": "TfV8J_ODUuc8",
        "outputId": "1820c402-d36f-4086-bb4e-34f77979c1f4"
      },
      "outputs": [
        {
          "data": {
            "text/html": [
              "<div>\n",
              "<style scoped>\n",
              "    .dataframe tbody tr th:only-of-type {\n",
              "        vertical-align: middle;\n",
              "    }\n",
              "\n",
              "    .dataframe tbody tr th {\n",
              "        vertical-align: top;\n",
              "    }\n",
              "\n",
              "    .dataframe thead th {\n",
              "        text-align: right;\n",
              "    }\n",
              "</style>\n",
              "<table border=\"1\" class=\"dataframe\">\n",
              "  <thead>\n",
              "    <tr style=\"text-align: right;\">\n",
              "      <th></th>\n",
              "      <th>l1</th>\n",
              "      <th>l2</th>\n",
              "      <th>l_inf</th>\n",
              "      <th>dist</th>\n",
              "      <th>sparsity</th>\n",
              "      <th>segnums</th>\n",
              "      <th>target_probs</th>\n",
              "    </tr>\n",
              "  </thead>\n",
              "  <tbody>\n",
              "    <tr>\n",
              "      <th>0</th>\n",
              "      <td>25.756286</td>\n",
              "      <td>5.187624</td>\n",
              "      <td>1.537324</td>\n",
              "      <td>25.756286</td>\n",
              "      <td>0.7</td>\n",
              "      <td>1</td>\n",
              "      <td>0.498340</td>\n",
              "    </tr>\n",
              "    <tr>\n",
              "      <th>1</th>\n",
              "      <td>1.553516</td>\n",
              "      <td>0.331605</td>\n",
              "      <td>0.211467</td>\n",
              "      <td>1.553516</td>\n",
              "      <td>0.7</td>\n",
              "      <td>1</td>\n",
              "      <td>0.498356</td>\n",
              "    </tr>\n",
              "    <tr>\n",
              "      <th>2</th>\n",
              "      <td>40.848429</td>\n",
              "      <td>6.724388</td>\n",
              "      <td>1.399894</td>\n",
              "      <td>40.848429</td>\n",
              "      <td>0.7</td>\n",
              "      <td>1</td>\n",
              "      <td>0.498328</td>\n",
              "    </tr>\n",
              "    <tr>\n",
              "      <th>3</th>\n",
              "      <td>16.118093</td>\n",
              "      <td>3.260137</td>\n",
              "      <td>1.029009</td>\n",
              "      <td>16.118093</td>\n",
              "      <td>0.7</td>\n",
              "      <td>1</td>\n",
              "      <td>0.498349</td>\n",
              "    </tr>\n",
              "    <tr>\n",
              "      <th>4</th>\n",
              "      <td>9.624011</td>\n",
              "      <td>1.913739</td>\n",
              "      <td>0.687176</td>\n",
              "      <td>9.624011</td>\n",
              "      <td>0.7</td>\n",
              "      <td>1</td>\n",
              "      <td>0.498356</td>\n",
              "    </tr>\n",
              "    <tr>\n",
              "      <th>...</th>\n",
              "      <td>...</td>\n",
              "      <td>...</td>\n",
              "      <td>...</td>\n",
              "      <td>...</td>\n",
              "      <td>...</td>\n",
              "      <td>...</td>\n",
              "      <td>...</td>\n",
              "    </tr>\n",
              "    <tr>\n",
              "      <th>145</th>\n",
              "      <td>15.717044</td>\n",
              "      <td>3.600117</td>\n",
              "      <td>1.074404</td>\n",
              "      <td>15.717044</td>\n",
              "      <td>0.7</td>\n",
              "      <td>1</td>\n",
              "      <td>0.498356</td>\n",
              "    </tr>\n",
              "    <tr>\n",
              "      <th>146</th>\n",
              "      <td>9.189886</td>\n",
              "      <td>1.957357</td>\n",
              "      <td>0.708383</td>\n",
              "      <td>9.189886</td>\n",
              "      <td>0.7</td>\n",
              "      <td>1</td>\n",
              "      <td>0.498356</td>\n",
              "    </tr>\n",
              "    <tr>\n",
              "      <th>147</th>\n",
              "      <td>7.045062</td>\n",
              "      <td>1.154526</td>\n",
              "      <td>0.330150</td>\n",
              "      <td>7.045062</td>\n",
              "      <td>0.7</td>\n",
              "      <td>1</td>\n",
              "      <td>0.498356</td>\n",
              "    </tr>\n",
              "    <tr>\n",
              "      <th>148</th>\n",
              "      <td>37.878739</td>\n",
              "      <td>6.492844</td>\n",
              "      <td>1.594116</td>\n",
              "      <td>37.878739</td>\n",
              "      <td>0.7</td>\n",
              "      <td>1</td>\n",
              "      <td>0.498342</td>\n",
              "    </tr>\n",
              "    <tr>\n",
              "      <th>149</th>\n",
              "      <td>24.418621</td>\n",
              "      <td>4.500645</td>\n",
              "      <td>1.346534</td>\n",
              "      <td>24.418621</td>\n",
              "      <td>0.7</td>\n",
              "      <td>1</td>\n",
              "      <td>0.498341</td>\n",
              "    </tr>\n",
              "  </tbody>\n",
              "</table>\n",
              "<p>150 rows × 7 columns</p>\n",
              "</div>"
            ],
            "text/plain": [
              "            l1        l2     l_inf       dist  sparsity  segnums  target_probs\n",
              "0    25.756286  5.187624  1.537324  25.756286       0.7        1      0.498340\n",
              "1     1.553516  0.331605  0.211467   1.553516       0.7        1      0.498356\n",
              "2    40.848429  6.724388  1.399894  40.848429       0.7        1      0.498328\n",
              "3    16.118093  3.260137  1.029009  16.118093       0.7        1      0.498349\n",
              "4     9.624011  1.913739  0.687176   9.624011       0.7        1      0.498356\n",
              "..         ...       ...       ...        ...       ...      ...           ...\n",
              "145  15.717044  3.600117  1.074404  15.717044       0.7        1      0.498356\n",
              "146   9.189886  1.957357  0.708383   9.189886       0.7        1      0.498356\n",
              "147   7.045062  1.154526  0.330150   7.045062       0.7        1      0.498356\n",
              "148  37.878739  6.492844  1.594116  37.878739       0.7        1      0.498342\n",
              "149  24.418621  4.500645  1.346534  24.418621       0.7        1      0.498341\n",
              "\n",
              "[150 rows x 7 columns]"
            ]
          },
          "execution_count": 69,
          "metadata": {},
          "output_type": "execute_result"
        }
      ],
      "source": [
        "res_df"
      ]
    },
    {
      "cell_type": "code",
      "execution_count": 71,
      "metadata": {
        "id": "3aYs526JVOho"
      },
      "outputs": [],
      "source": [
        "res_df.to_csv(DS + '.csv')"
      ]
    }
  ],
  "metadata": {
    "colab": {
      "provenance": []
    },
    "kernelspec": {
      "display_name": "Python 3",
      "name": "python3"
    },
    "language_info": {
      "codemirror_mode": {
        "name": "ipython",
        "version": 3
      },
      "file_extension": ".py",
      "mimetype": "text/x-python",
      "name": "python",
      "nbconvert_exporter": "python",
      "pygments_lexer": "ipython3",
      "version": "3.11.7"
    }
  },
  "nbformat": 4,
  "nbformat_minor": 0
}
