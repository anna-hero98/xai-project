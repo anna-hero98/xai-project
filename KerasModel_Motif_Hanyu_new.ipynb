{
  "cells": [
    {
      "cell_type": "code",
      "execution_count": null,
      "metadata": {
        "id": "JrasrrkzAFPb"
      },
      "outputs": [],
      "source": [
        "import numpy as np\n",
        "import pandas as pd\n",
        "import matplotlib.pyplot as plt\n",
        "\n",
        "from sklearn import preprocessing\n",
        "from pyts.transformation import ShapeletTransform\n",
        "import pyts.datasets"
      ]
    },
    {
      "cell_type": "code",
      "execution_count": null,
      "metadata": {
        "id": "LfApl9gdPWsY"
      },
      "outputs": [],
      "source": [
        "DS = 'ECG200'\n",
        "X_train, X_test, y_train, y_test = pyts.datasets.fetch_ucr_dataset(dataset=DS, return_X_y=True)\n",
        "Ori_test = X_test"
      ]
    },
    {
      "cell_type": "code",
      "execution_count": null,
      "metadata": {
        "colab": {
          "base_uri": "https://localhost:8080/"
        },
        "id": "6gStpyCV18P5",
        "outputId": "933b9d4c-fded-4c9d-d93f-110b13ba34f3"
      },
      "outputs": [
        {
          "data": {
            "text/plain": [
              "array([-1,  1, -1, -1,  1,  1, -1, -1,  1,  1,  1,  1,  1,  1, -1,  1,  1,\n",
              "        1, -1, -1,  1,  1,  1, -1,  1,  1,  1, -1,  1,  1,  1,  1,  1,  1,\n",
              "        1, -1,  1,  1,  1,  1,  1,  1,  1, -1, -1,  1, -1, -1,  1, -1,  1,\n",
              "        1,  1, -1,  1,  1, -1, -1,  1,  1,  1, -1,  1,  1,  1, -1,  1,  1,\n",
              "        1,  1,  1,  1, -1,  1,  1,  1,  1,  1,  1,  1,  1,  1,  1, -1, -1,\n",
              "       -1, -1,  1, -1,  1, -1,  1,  1, -1,  1,  1, -1, -1,  1,  1])"
            ]
          },
          "execution_count": 5,
          "metadata": {},
          "output_type": "execute_result"
        }
      ],
      "source": [
        "y_train"
      ]
    },
    {
      "cell_type": "code",
      "execution_count": null,
      "metadata": {
        "id": "xgluP5JCKq9E"
      },
      "outputs": [],
      "source": [
        "def label_encoder(training_labels, testing_labels):\n",
        "\n",
        "    le = preprocessing.LabelEncoder()\n",
        "    le.fit(np.concatenate((training_labels, testing_labels), axis=0))\n",
        "    y_train = le.transform(training_labels)\n",
        "    y_test = le.transform(testing_labels)\n",
        "\n",
        "    return y_train, y_test\n",
        "\n",
        "y_train, y_test = label_encoder(y_train, y_test)"
      ]
    },
    {
      "cell_type": "code",
      "execution_count": null,
      "metadata": {
        "colab": {
          "base_uri": "https://localhost:8080/"
        },
        "id": "pQQpbrbtS92V",
        "outputId": "43307801-6621-4f7f-98c0-1101344123e2"
      },
      "outputs": [
        {
          "data": {
            "text/plain": [
              "array([0, 1, 0, 0, 1, 1, 0, 0, 1, 1, 1, 1, 1, 1, 0, 1, 1, 1, 0, 0, 1, 1,\n",
              "       1, 0, 1, 1, 1, 0, 1, 1, 1, 1, 1, 1, 1, 0, 1, 1, 1, 1, 1, 1, 1, 0,\n",
              "       0, 1, 0, 0, 1, 0, 1, 1, 1, 0, 1, 1, 0, 0, 1, 1, 1, 0, 1, 1, 1, 0,\n",
              "       1, 1, 1, 1, 1, 1, 0, 1, 1, 1, 1, 1, 1, 1, 1, 1, 1, 0, 0, 0, 0, 1,\n",
              "       0, 1, 0, 1, 1, 0, 1, 1, 0, 0, 1, 1])"
            ]
          },
          "execution_count": 7,
          "metadata": {},
          "output_type": "execute_result"
        }
      ],
      "source": [
        "y_train"
      ]
    },
    {
      "cell_type": "code",
      "execution_count": null,
      "metadata": {
        "id": "_rPdxAUbOE9O"
      },
      "outputs": [],
      "source": [
        "def get_shapelet(X_train, y_train, len_ts):\n",
        "    a = int(len_ts * 0.3)\n",
        "    b = int(len_ts * 0.5)\n",
        "    c = int(len_ts * 0.7)\n",
        "    st = ShapeletTransform(n_shapelets=100, window_sizes=[a, b, c],\n",
        "                           random_state=42, sort=True)\n",
        "    st.fit_transform(X_train, y_train)\n",
        "    indices = pd.DataFrame(st.indices_)\n",
        "    return indices\n",
        "\n",
        "# category the shapelets by their label, res include 4 columns, the index, start index, end index, and the label\n",
        "def shapelet_category(y_train, indices, label):\n",
        "    labels = y_train[indices.iloc[:, 0]]\n",
        "    labels = pd.DataFrame(labels)\n",
        "    frames = [indices, labels]\n",
        "    res = pd.concat(frames, axis=1)\n",
        "    res.columns=[\"idx\", \"start_point\", \"end_point\", \"label\"]\n",
        "    res = res.groupby('label')\n",
        "    res = res.get_group(label).head(1)\n",
        "    res = np.array(res)\n",
        "    return res"
      ]
    },
    {
      "cell_type": "code",
      "execution_count": null,
      "metadata": {
        "colab": {
          "base_uri": "https://localhost:8080/"
        },
        "id": "QhEkYS4fOufB",
        "outputId": "5c90ecff-c1b0-41f1-9139-d2a8d2673d9e"
      },
      "outputs": [
        {
          "name": "stdout",
          "output_type": "stream",
          "text": [
            "(100, 96) 96 [0 1]\n",
            "[array([[61, 27, 94,  0]]), array([[55, 13, 80,  1]])]\n"
          ]
        }
      ],
      "source": [
        "len_ts = X_train.shape[1]\n",
        "classes =np.unique(y_test)\n",
        "nb_classes = len(classes)\n",
        "print(X_train.shape, len_ts, classes)\n",
        "idx_shapelets = get_shapelet(X_train, y_train, len_ts)  # index, start_point, end_point\n",
        "shapelets = []\n",
        "for i in classes:\n",
        "    shapelets.append(shapelet_category(y_train, idx_shapelets, i))\n",
        "print(shapelets)"
      ]
    },
    {
      "cell_type": "code",
      "execution_count": null,
      "metadata": {
        "id": "Hfkr4hyuQ5Jg"
      },
      "outputs": [],
      "source": [
        "shapelet_dic = {}\n",
        "for cls in range(nb_classes):\n",
        "    shapelet_dic[cls] = X_train[shapelets[cls][0][0]][shapelets[cls][0][1]:shapelets[cls][0][2]]"
      ]
    },
    {
      "cell_type": "code",
      "execution_count": null,
      "metadata": {
        "colab": {
          "base_uri": "https://localhost:8080/",
          "height": 279
        },
        "id": "7r8TxWsW5qyd",
        "outputId": "0025f9e5-60cd-4011-f332-0e2651a2e1bd"
      },
      "outputs": [
        {
          "data": {
            "image/png": "[encoded data removed]",
            "text/plain": [
              "<Figure size 432x288 with 1 Axes>"
            ]
          },
          "metadata": {
            "needs_background": "light"
          },
          "output_type": "display_data"
        }
      ],
      "source": [
        "plt.style.use('bmh')\n",
        "cls = 0\n",
        "plt.plot(X_train[shapelets[cls][0][0]], )\n",
        "plt.plot(np.arange(shapelets[cls][0][1], shapelets[cls][0][2]),\n",
        "         X_train[shapelets[cls][0][0], shapelets[cls][0][1]:shapelets[cls][0][2]], label = \"motif\")\n",
        "\n",
        "\n",
        "plt.xlabel('Time', fontsize=12)\n",
        "# plt.title('The shapelets', fontsize=14)\n",
        "plt.legend()\n",
        "plt.show()"
      ]
    },
    {
      "cell_type": "code",
      "execution_count": null,
      "metadata": {
        "colab": {
          "base_uri": "https://localhost:8080/",
          "height": 279
        },
        "id": "_-CdBltsH7FR",
        "outputId": "94ae3d0c-9a9a-4749-f5a4-b3ae959b49b2"
      },
      "outputs": [
        {
          "data": {
            "image/png": "[encoded data removed]",
            "text/plain": [
              "<Figure size 432x288 with 1 Axes>"
            ]
          },
          "metadata": {
            "needs_background": "light"
          },
          "output_type": "display_data"
        }
      ],
      "source": [
        "plt.style.use('bmh')\n",
        "cls = 1\n",
        "plt.plot(X_train[shapelets[cls][0][0]],)\n",
        "plt.plot(np.arange(shapelets[cls][0][1], shapelets[cls][0][2]),\n",
        "         X_train[shapelets[cls][0][0], shapelets[cls][0][1]:shapelets[cls][0][2]], label = \"motif\")\n",
        "\n",
        "plt.xlabel('Time', fontsize=12)\n",
        "plt.legend()\n",
        "plt.show()\n"
      ]
    },
    {
      "cell_type": "markdown",
      "metadata": {
        "id": "3tn2LoVc71Mv"
      },
      "source": [
        "# train & test data"
      ]
    },
    {
      "cell_type": "code",
      "execution_count": null,
      "metadata": {
        "id": "wnfuMuKV73pz"
      },
      "outputs": [],
      "source": [
        "from sklearn.ensemble import RandomForestClassifier\n",
        "from sklearn.metrics import f1_score\n",
        "\n",
        "classifier = RandomForestClassifier()\n",
        "\n",
        "def train(classifier, X_train, y_train, X_test):\n",
        "  model = classifier\n",
        "  model.fit(X_train, y_train)\n",
        "  return model\n",
        "\n",
        "model = train(classifier, X_train, y_train, X_test)"
      ]
    },
    {
      "cell_type": "code",
      "execution_count": null,
      "metadata": {
        "id": "czSr1dnpMXyI"
      },
      "outputs": [],
      "source": [
        "y_pred = model.predict(X_test)"
      ]
    },
    {
      "cell_type": "code",
      "execution_count": null,
      "metadata": {
        "id": "TqKRRhXgI5TE"
      },
      "outputs": [],
      "source": [
        "y_preds = model.predict_proba(X_test)"
      ]
    },
    {
      "cell_type": "code",
      "execution_count": null,
      "metadata": {
        "id": "aWwMZsuoI-RL"
      },
      "outputs": [],
      "source": [
        "def target(instance):\n",
        "  target = np.argsort(instance)[-2:-1][0]\n",
        "  return target\n",
        "\n",
        "def targets_generation(instances):\n",
        "  targets= []\n",
        "  for i in y_preds:\n",
        "    res = target(i)\n",
        "    targets.append(res)\n",
        "  return targets\n",
        "\n",
        "targets = targets_generation(y_preds) # store the target class we want to change to"
      ]
    },
    {
      "cell_type": "code",
      "execution_count": null,
      "metadata": {
        "colab": {
          "base_uri": "https://localhost:8080/"
        },
        "id": "VInGVGOPvGaE",
        "outputId": "cd30d0d2-25bd-48f8-c624-a94f52ca4764"
      },
      "outputs": [
        {
          "data": {
            "text/plain": [
              "0.81"
            ]
          },
          "execution_count": 17,
          "metadata": {},
          "output_type": "execute_result"
        }
      ],
      "source": [
        "def eval(y_test, y_pred):\n",
        "  f1 = f1_score(y_test, y_pred, average= 'micro')\n",
        "  return f1\n",
        "f1 = eval(y_test,y_pred)\n",
        "f1"
      ]
    },
    {
      "cell_type": "code",
      "execution_count": null,
      "metadata": {
        "colab": {
          "base_uri": "https://localhost:8080/"
        },
        "id": "wxC-39ZUGcuU",
        "outputId": "ac342e14-d970-41ea-f8e9-7dca20a90ee7"
      },
      "outputs": [
        {
          "data": {
            "text/plain": [
              "array([1, 1, 1, 1, 0, 1, 1, 1, 1, 0, 0, 1, 0, 0, 0, 1, 1, 1, 0, 1, 0, 1,\n",
              "       1, 1, 1, 1, 0, 1, 0, 1, 1, 1, 0, 0, 1, 1, 1, 1, 0, 0, 1, 1, 0, 1,\n",
              "       1, 1, 1, 1, 1, 1, 1, 0, 0, 0, 0, 0, 1, 0, 0, 0, 0, 1, 1, 0, 0, 0,\n",
              "       1, 1, 1, 1, 1, 1, 1, 1, 1, 0, 1, 1, 1, 1, 1, 0, 1, 1, 0, 0, 0, 0,\n",
              "       1, 1, 1, 0, 1, 1, 1, 1, 1, 0, 0, 1])"
            ]
          },
          "execution_count": 18,
          "metadata": {},
          "output_type": "execute_result"
        }
      ],
      "source": [
        "y_test"
      ]
    },
    {
      "cell_type": "code",
      "execution_count": null,
      "metadata": {
        "id": "sv-jfcBnxd_q"
      },
      "outputs": [],
      "source": [
        "counterfactual_examples = []\n",
        "def counterfacutal_generation(test_samples):\n",
        "  for i in range(len(test_samples)):\n",
        "    index, start, end = shapelets[targets[i]][0][0], shapelets[targets[i]][0][1], shapelets[targets[i]][0][2]\n",
        "    test_samples[i][start:end] = X_train[index][start:end]\n",
        "    counterfactual_examples.append(test_samples[i])\n",
        "  return counterfactual_examples"
      ]
    },
    {
      "cell_type": "code",
      "execution_count": null,
      "metadata": {
        "id": "Z4UphxCS0Os1"
      },
      "outputs": [],
      "source": [
        "counterfactual_examples = counterfacutal_generation(X_test)"
      ]
    },
    {
      "cell_type": "code",
      "execution_count": null,
      "metadata": {
        "id": "FiXOOeH4aFDn"
      },
      "outputs": [],
      "source": [
        "_, X_test, _, _ = pyts.datasets.fetch_ucr_dataset(dataset=DS, return_X_y=True)"
      ]
    },
    {
      "cell_type": "code",
      "execution_count": null,
      "metadata": {
        "colab": {
          "base_uri": "https://localhost:8080/"
        },
        "id": "L924mNiXfTRC",
        "outputId": "9e4433f8-8bbd-4e88-fb8a-7099db1cbe72"
      },
      "outputs": [
        {
          "data": {
            "text/plain": [
              "array([1, 1, 1, 1, 0, 1, 1, 1, 1, 0, 0, 1, 0, 0, 0, 1, 1, 1, 0, 1, 0, 1,\n",
              "       1, 1, 1, 1, 0, 1, 0, 1, 1, 1, 0, 0, 1, 1, 1, 1, 0, 0, 1, 1, 0, 1,\n",
              "       1, 1, 1, 1, 1, 1, 1, 0, 0, 0, 0, 0, 1, 0, 0, 0, 0, 1, 1, 0, 0, 0,\n",
              "       1, 1, 1, 1, 1, 1, 1, 1, 1, 0, 1, 1, 1, 1, 1, 0, 1, 1, 0, 0, 0, 0,\n",
              "       1, 1, 1, 0, 1, 1, 1, 1, 1, 0, 0, 1])"
            ]
          },
          "execution_count": 22,
          "metadata": {},
          "output_type": "execute_result"
        }
      ],
      "source": [
        "y_test"
      ]
    },
    {
      "cell_type": "code",
      "execution_count": null,
      "metadata": {
        "colab": {
          "base_uri": "https://localhost:8080/",
          "height": 279
        },
        "id": "89k2pjZ-LXza",
        "outputId": "23cefa4d-4667-4826-caa6-b1eaca7b81d4"
      },
      "outputs": [
        {
          "data": {
            "image/png": "[encoded data removed]",
            "text/plain": [
              "<Figure size 432x288 with 1 Axes>"
            ]
          },
          "metadata": {
            "needs_background": "light"
          },
          "output_type": "display_data"
        }
      ],
      "source": [
        "plt.style.use('bmh')\n",
        "\n",
        "plt.plot(X_test[0], label = 'Original', color='magenta')\n",
        "plt.plot(counterfactual_examples[0], label = 'CF', ls='--', color='green')\n",
        "\n",
        "plt.xlabel('Time', fontsize=12)\n",
        "# plt.title('The shapelets', fontsize=14)\n",
        "plt.legend()\n",
        "plt.show()"
      ]
    },
    {
      "cell_type": "code",
      "execution_count": null,
      "metadata": {
        "colab": {
          "base_uri": "https://localhost:8080/",
          "height": 279
        },
        "id": "vHyzQO-diSyP",
        "outputId": "b9d1977e-ac8b-45ac-9c28-7634cf5d3e6d"
      },
      "outputs": [
        {
          "data": {
            "image/png": "[encoded data removed]",
            "text/plain": [
              "<Figure size 432x288 with 1 Axes>"
            ]
          },
          "metadata": {
            "needs_background": "light"
          },
          "output_type": "display_data"
        }
      ],
      "source": [
        "plt.style.use('bmh')\n",
        "\n",
        "plt.plot(X_test[4], label = 'Original', color='magenta')\n",
        "plt.plot(counterfactual_examples[4], label = 'CF', ls='--', color='green')\n",
        "\n",
        "plt.xlabel('Time', fontsize=12)\n",
        "# plt.title('The shapelets', fontsize=14)\n",
        "plt.legend()\n",
        "plt.show()"
      ]
    },
    {
      "cell_type": "code",
      "execution_count": null,
      "metadata": {
        "id": "7IUQnmTWIZQi"
      },
      "outputs": [],
      "source": [
        "from scipy.spatial import distance\n",
        "def getmetrics(x1,x2):\n",
        "    x1 = [np.round(e, 3) for e in x1]\n",
        "    x2 = [np.round(e, 3) for e in x2]\n",
        "\n",
        "    l = [np.round(e1-e2,3) for e1,e2 in zip(x1,x2)]\n",
        "    dist = distance.cityblock(x1,x2)\n",
        "    sparsity = (len(l)-np.count_nonzero(l))/len(l)\n",
        "\n",
        "    segnums = get_segmentsNumber(l)\n",
        "    return dist, sparsity, segnums\n",
        "\n",
        "def get_segmentsNumber(l4):\n",
        "    flag, count = 0,0\n",
        "    for i in range(len(l4)):\n",
        "        if l4[i:i+1][0]!=0:\n",
        "            flag=1\n",
        "        if flag==1 and l4[i:i+1][0]==0:\n",
        "            count= count+1\n",
        "            flag=0\n",
        "    return count"
      ]
    },
    {
      "cell_type": "code",
      "execution_count": null,
      "metadata": {
        "id": "F8DJkXYnRTv1"
      },
      "outputs": [],
      "source": [
        "counter_res = model.predict_proba(counterfactual_examples)"
      ]
    },
    {
      "cell_type": "code",
      "execution_count": null,
      "metadata": {
        "id": "8o7m11RvTJXq"
      },
      "outputs": [],
      "source": [
        "target_probs = []\n",
        "for i in range(len(counter_res)):\n",
        "  target_prob = counter_res[i][targets[i]]\n",
        "  target_probs.append(target_prob)"
      ]
    },
    {
      "cell_type": "code",
      "execution_count": null,
      "metadata": {
        "id": "9cm5wzTcIX8G"
      },
      "outputs": [],
      "source": [
        "res = []\n",
        "for i in range(len(X_test)):\n",
        "  dist, sparsity, segnums = getmetrics(X_test[i],counterfactual_examples[i])\n",
        "\n",
        "  res.append(np.array([dist, sparsity, segnums, target_probs[i]]))\n",
        "res = pd.DataFrame(res)\n",
        "res.columns=['dist', 'sparsity', 'segnums', 'target_probs']"
      ]
    },
    {
      "cell_type": "code",
      "execution_count": null,
      "metadata": {
        "colab": {
          "base_uri": "https://localhost:8080/",
          "height": 424
        },
        "id": "TfV8J_ODUuc8",
        "outputId": "1820c402-d36f-4086-bb4e-34f77979c1f4"
      },
      "outputs": [
        {
          "data": {
            "text/html": [
              "\n",
              "  <div id=\"df-971ce77e-5a54-4f35-89cd-92095e143a58\">\n",
              "    <div class=\"colab-df-container\">\n",
              "      <div>\n",
              "<style scoped>\n",
              "    .dataframe tbody tr th:only-of-type {\n",
              "        vertical-align: middle;\n",
              "    }\n",
              "\n",
              "    .dataframe tbody tr th {\n",
              "        vertical-align: top;\n",
              "    }\n",
              "\n",
              "    .dataframe thead th {\n",
              "        text-align: right;\n",
              "    }\n",
              "</style>\n",
              "<table border=\"1\" class=\"dataframe\">\n",
              "  <thead>\n",
              "    <tr style=\"text-align: right;\">\n",
              "      <th></th>\n",
              "      <th>dist</th>\n",
              "      <th>sparsity</th>\n",
              "      <th>segnums</th>\n",
              "      <th>target_probs</th>\n",
              "    </tr>\n",
              "  </thead>\n",
              "  <tbody>\n",
              "    <tr>\n",
              "      <th>0</th>\n",
              "      <td>41.927</td>\n",
              "      <td>0.302083</td>\n",
              "      <td>1.0</td>\n",
              "      <td>0.79</td>\n",
              "    </tr>\n",
              "    <tr>\n",
              "      <th>1</th>\n",
              "      <td>40.824</td>\n",
              "      <td>0.302083</td>\n",
              "      <td>1.0</td>\n",
              "      <td>0.81</td>\n",
              "    </tr>\n",
              "    <tr>\n",
              "      <th>2</th>\n",
              "      <td>43.485</td>\n",
              "      <td>0.302083</td>\n",
              "      <td>1.0</td>\n",
              "      <td>0.82</td>\n",
              "    </tr>\n",
              "    <tr>\n",
              "      <th>3</th>\n",
              "      <td>40.478</td>\n",
              "      <td>0.302083</td>\n",
              "      <td>1.0</td>\n",
              "      <td>0.83</td>\n",
              "    </tr>\n",
              "    <tr>\n",
              "      <th>4</th>\n",
              "      <td>50.202</td>\n",
              "      <td>0.302083</td>\n",
              "      <td>1.0</td>\n",
              "      <td>0.83</td>\n",
              "    </tr>\n",
              "    <tr>\n",
              "      <th>...</th>\n",
              "      <td>...</td>\n",
              "      <td>...</td>\n",
              "      <td>...</td>\n",
              "      <td>...</td>\n",
              "    </tr>\n",
              "    <tr>\n",
              "      <th>95</th>\n",
              "      <td>40.224</td>\n",
              "      <td>0.302083</td>\n",
              "      <td>1.0</td>\n",
              "      <td>0.79</td>\n",
              "    </tr>\n",
              "    <tr>\n",
              "      <th>96</th>\n",
              "      <td>38.152</td>\n",
              "      <td>0.302083</td>\n",
              "      <td>1.0</td>\n",
              "      <td>0.79</td>\n",
              "    </tr>\n",
              "    <tr>\n",
              "      <th>97</th>\n",
              "      <td>64.427</td>\n",
              "      <td>0.302083</td>\n",
              "      <td>1.0</td>\n",
              "      <td>0.92</td>\n",
              "    </tr>\n",
              "    <tr>\n",
              "      <th>98</th>\n",
              "      <td>25.146</td>\n",
              "      <td>0.302083</td>\n",
              "      <td>1.0</td>\n",
              "      <td>0.92</td>\n",
              "    </tr>\n",
              "    <tr>\n",
              "      <th>99</th>\n",
              "      <td>49.093</td>\n",
              "      <td>0.302083</td>\n",
              "      <td>1.0</td>\n",
              "      <td>0.80</td>\n",
              "    </tr>\n",
              "  </tbody>\n",
              "</table>\n",
              "<p>100 rows × 4 columns</p>\n",
              "</div>\n",
              "      <button class=\"colab-df-convert\" onclick=\"convertToInteractive('df-971ce77e-5a54-4f35-89cd-92095e143a58')\"\n",
              "              title=\"Convert this dataframe to an interactive table.\"\n",
              "              style=\"display:none;\">\n",
              "        \n",
              "  <svg xmlns=\"http://www.w3.org/2000/svg\" height=\"24px\"viewBox=\"0 0 24 24\"\n",
              "       width=\"24px\">\n",
              "    <path d=\"M0 0h24v24H0V0z\" fill=\"none\"/>\n",
              "    <path d=\"M18.56 5.44l.94 2.06.94-2.06 2.06-.94-2.06-.94-.94-2.06-.94 2.06-2.06.94zm-11 1L8.5 8.5l.94-2.06 2.06-.94-2.06-.94L8.5 2.5l-.94 2.06-2.06.94zm10 10l.94 2.06.94-2.06 2.06-.94-2.06-.94-.94-2.06-.94 2.06-2.06.94z\"/><path d=\"M17.41 7.96l-1.37-1.37c-.4-.4-.92-.59-1.43-.59-.52 0-1.04.2-1.43.59L10.3 9.45l-7.72 7.72c-.78.78-.78 2.05 0 2.83L4 21.41c.39.39.9.59 1.41.59.51 0 1.02-.2 1.41-.59l7.78-7.78 2.81-2.81c.8-.78.8-2.07 0-2.86zM5.41 20L4 18.59l7.72-7.72 1.47 1.35L5.41 20z\"/>\n",
              "  </svg>\n",
              "      </button>\n",
              "      \n",
              "  <style>\n",
              "    .colab-df-container {\n",
              "      display:flex;\n",
              "      flex-wrap:wrap;\n",
              "      gap: 12px;\n",
              "    }\n",
              "\n",
              "    .colab-df-convert {\n",
              "      background-color: #E8F0FE;\n",
              "      border: none;\n",
              "      border-radius: 50%;\n",
              "      cursor: pointer;\n",
              "      display: none;\n",
              "      fill: #1967D2;\n",
              "      height: 32px;\n",
              "      padding: 0 0 0 0;\n",
              "      width: 32px;\n",
              "    }\n",
              "\n",
              "    .colab-df-convert:hover {\n",
              "      background-color: #E2EBFA;\n",
              "      box-shadow: 0px 1px 2px rgba(60, 64, 67, 0.3), 0px 1px 3px 1px rgba(60, 64, 67, 0.15);\n",
              "      fill: #174EA6;\n",
              "    }\n",
              "\n",
              "    [theme=dark] .colab-df-convert {\n",
              "      background-color: #3B4455;\n",
              "      fill: #D2E3FC;\n",
              "    }\n",
              "\n",
              "    [theme=dark] .colab-df-convert:hover {\n",
              "      background-color: #434B5C;\n",
              "      box-shadow: 0px 1px 3px 1px rgba(0, 0, 0, 0.15);\n",
              "      filter: drop-shadow(0px 1px 2px rgba(0, 0, 0, 0.3));\n",
              "      fill: #FFFFFF;\n",
              "    }\n",
              "  </style>\n",
              "\n",
              "      <script>\n",
              "        const buttonEl =\n",
              "          document.querySelector('#df-971ce77e-5a54-4f35-89cd-92095e143a58 button.colab-df-convert');\n",
              "        buttonEl.style.display =\n",
              "          google.colab.kernel.accessAllowed ? 'block' : 'none';\n",
              "\n",
              "        async function convertToInteractive(key) {\n",
              "          const element = document.querySelector('#df-971ce77e-5a54-4f35-89cd-92095e143a58');\n",
              "          const dataTable =\n",
              "            await google.colab.kernel.invokeFunction('convertToInteractive',\n",
              "                                                     [key], {});\n",
              "          if (!dataTable) return;\n",
              "\n",
              "          const docLinkHtml = 'Like what you see? Visit the ' +\n",
              "            '<a target=\"_blank\" href=https://colab.research.google.com/notebooks/data_table.ipynb>data table notebook</a>'\n",
              "            + ' to learn more about interactive tables.';\n",
              "          element.innerHTML = '';\n",
              "          dataTable['output_type'] = 'display_data';\n",
              "          await google.colab.output.renderOutput(dataTable, element);\n",
              "          const docLink = document.createElement('div');\n",
              "          docLink.innerHTML = docLinkHtml;\n",
              "          element.appendChild(docLink);\n",
              "        }\n",
              "      </script>\n",
              "    </div>\n",
              "  </div>\n",
              "  "
            ],
            "text/plain": [
              "      dist  sparsity  segnums  target_probs\n",
              "0   41.927  0.302083      1.0          0.79\n",
              "1   40.824  0.302083      1.0          0.81\n",
              "2   43.485  0.302083      1.0          0.82\n",
              "3   40.478  0.302083      1.0          0.83\n",
              "4   50.202  0.302083      1.0          0.83\n",
              "..     ...       ...      ...           ...\n",
              "95  40.224  0.302083      1.0          0.79\n",
              "96  38.152  0.302083      1.0          0.79\n",
              "97  64.427  0.302083      1.0          0.92\n",
              "98  25.146  0.302083      1.0          0.92\n",
              "99  49.093  0.302083      1.0          0.80\n",
              "\n",
              "[100 rows x 4 columns]"
            ]
          },
          "execution_count": 29,
          "metadata": {},
          "output_type": "execute_result"
        }
      ],
      "source": [
        "res"
      ]
    },
    {
      "cell_type": "code",
      "execution_count": null,
      "metadata": {
        "id": "3aYs526JVOho"
      },
      "outputs": [],
      "source": [
        "res.to_csv(DS + '.csv')"
      ]
    },
    {
      "cell_type": "code",
      "execution_count": null,
      "metadata": {
        "colab": {
          "base_uri": "https://localhost:8080/"
        },
        "id": "zwWS_MbZiyni",
        "outputId": "adf72dab-100c-4ad8-ce71-52cfd34ba982"
      },
      "outputs": [
        {
          "name": "stdout",
          "output_type": "stream",
          "text": [
            "flip label rate 1.0\n"
          ]
        }
      ],
      "source": [
        "def check_fliplabel(counterfactual_examples):\n",
        "  counter_res = model.predict(counterfactual_examples)\n",
        "  f1 = eval(counter_res,targets)\n",
        "  return f1\n",
        "res = check_fliplabel(counterfactual_examples)\n",
        "print(\"flip label rate \" + str(res))"
      ]
    }
  ],
  "metadata": {
    "colab": {
      "provenance": []
    },
    "kernelspec": {
      "display_name": "Python 3",
      "name": "python3"
    },
    "language_info": {
      "name": "python",
      "version": "3.11.7"
    }
  },
  "nbformat": 4,
  "nbformat_minor": 0
}
